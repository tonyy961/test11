{
 "cells": [
  {
   "cell_type": "code",
   "execution_count": 1,
   "id": "267e6b05",
   "metadata": {},
   "outputs": [],
   "source": [
    "import os \n",
    "import numpy as np\n",
    "import splitfolders\n",
    "import matplotlib.pyplot as plt\n",
    "import tensorflow as tf\n",
    "from tensorflow.keras.preprocessing.image import ImageDataGenerator\n",
    "from tensorflow.keras.preprocessing.image import img_to_array\n",
    "from tensorflow.keras.preprocessing.image import load_img\n",
    "\n",
    "%matplotlib inline"
   ]
  },
  {
   "cell_type": "code",
   "execution_count": 3,
   "id": "998b56b3",
   "metadata": {},
   "outputs": [],
   "source": [
    "os.chdir(\"C:/Users/tonyy/OneDrive/Desktop/ML project 2/corn dataset\")"
   ]
  },
  {
   "cell_type": "code",
   "execution_count": 4,
   "id": "3d5428fe",
   "metadata": {},
   "outputs": [],
   "source": [
    "data_path = 'data'\n",
    "splitted_data = 'splitted-data'"
   ]
  },
  {
   "cell_type": "code",
   "execution_count": 5,
   "id": "f9b56388",
   "metadata": {},
   "outputs": [],
   "source": [
    "#Setting up the parameter\n",
    "\n",
    "#For the parameter in the flow from directory\n",
    "#I rescale it to 128x128 and use 32 batch size you can try other size \n",
    "batch_size = 32\n",
    "img_width = 128\n",
    "img_height = 128\n",
    "\n",
    "#The augmetnation parameter\n",
    "rotation_range = 0.4\n",
    "width_shift_range = 0.2\n",
    "height_shift_range = 0.3\n",
    "shear_range = 0.2\n",
    "zoom_range = 0.2"
   ]
  },
  {
   "cell_type": "code",
   "execution_count": 8,
   "id": "ab9c1de3",
   "metadata": {},
   "outputs": [],
   "source": [
    "#Making the Image Data Generator\n",
    "\n",
    "#The path for the data\n",
    "path_train = \"splitted_data/train\"\n",
    "path_test = \"splitted_data/test\"\n",
    "path_val = \"splitted_data/val\""
   ]
  },
  {
   "cell_type": "code",
   "execution_count": 9,
   "id": "46a649c2",
   "metadata": {},
   "outputs": [
    {
     "name": "stdout",
     "output_type": "stream",
     "text": [
      "Found 3077 images belonging to 4 classes.\n",
      "Found 388 images belonging to 4 classes.\n",
      "Found 383 images belonging to 4 classes.\n"
     ]
    }
   ],
   "source": [
    "#We use ImageDataGenerator to help us augment the image\n",
    "train_datagen = ImageDataGenerator(rescale = 1./255.,\n",
    "                                   rotation_range = rotation_range,\n",
    "                                   width_shift_range = width_shift_range,\n",
    "                                   height_shift_range = height_shift_range,\n",
    "                                   shear_range = shear_range,\n",
    "                                   zoom_range = zoom_range,\n",
    "                                   horizontal_flip = True,\n",
    "                                   fill_mode = 'nearest'\n",
    "                                    )\n",
    "\n",
    "train_generator = train_datagen.flow_from_directory(directory = path_train,\n",
    "                                                    batch_size = batch_size,\n",
    "                                                    class_mode = \"categorical\",\n",
    "                                                    target_size = (img_width, img_height)\n",
    "                                                    )\n",
    "\n",
    "test_datagen = ImageDataGenerator(rescale = 1./255.)\n",
    "\n",
    "test_generator = test_datagen.flow_from_directory(directory = path_test,\n",
    "                                                  batch_size = batch_size,\n",
    "                                                  class_mode = \"categorical\",\n",
    "                                                  target_size = (img_width, img_height)\n",
    "                                                  )\n",
    "\n",
    "valid_datagen = ImageDataGenerator(rescale = 1./255.)\n",
    "\n",
    "valid_generator = test_datagen.flow_from_directory(directory = path_val,\n",
    "                                                  batch_size = batch_size,\n",
    "                                                  class_mode = \"categorical\",\n",
    "                                                  target_size = (img_width, img_height)\n",
    "                                                  )"
   ]
  },
  {
   "cell_type": "code",
   "execution_count": 10,
   "id": "1c6a44e3",
   "metadata": {},
   "outputs": [],
   "source": [
    "model = tf.keras.models.Sequential()\n",
    "model.add(tf.keras.layers.Conv2D(32, (3,3), activation='relu', input_shape=(128,128,3)))\n",
    "model.add(tf.keras.layers.MaxPooling2D(2, 2))\n",
    "model.add(tf.keras.layers.Conv2D(64, (3,3), activation='relu'))\n",
    "model.add(tf.keras.layers.MaxPooling2D(2, 2))\n",
    "model.add(tf.keras.layers.Conv2D(128, (3,3), activation='relu'))\n",
    "model.add(tf.keras.layers.MaxPooling2D(2, 2))\n",
    "model.add(tf.keras.layers.Flatten())\n",
    "model.add(tf.keras.layers.Dropout(0.7))\n",
    "model.add(tf.keras.layers.Dense(256, activation='relu'))\n",
    "model.add(tf.keras.layers.Dense(128, activation='relu'))\n",
    "model.add(tf.keras.layers.Dense(4, activation='softmax'))"
   ]
  },
  {
   "cell_type": "code",
   "execution_count": 11,
   "id": "9142c88b",
   "metadata": {},
   "outputs": [
    {
     "name": "stdout",
     "output_type": "stream",
     "text": [
      "Model: \"sequential\"\n",
      "_________________________________________________________________\n",
      "Layer (type)                 Output Shape              Param #   \n",
      "=================================================================\n",
      "conv2d (Conv2D)              (None, 126, 126, 32)      896       \n",
      "_________________________________________________________________\n",
      "max_pooling2d (MaxPooling2D) (None, 63, 63, 32)        0         \n",
      "_________________________________________________________________\n",
      "conv2d_1 (Conv2D)            (None, 61, 61, 64)        18496     \n",
      "_________________________________________________________________\n",
      "max_pooling2d_1 (MaxPooling2 (None, 30, 30, 64)        0         \n",
      "_________________________________________________________________\n",
      "conv2d_2 (Conv2D)            (None, 28, 28, 128)       73856     \n",
      "_________________________________________________________________\n",
      "max_pooling2d_2 (MaxPooling2 (None, 14, 14, 128)       0         \n",
      "_________________________________________________________________\n",
      "flatten (Flatten)            (None, 25088)             0         \n",
      "_________________________________________________________________\n",
      "dropout (Dropout)            (None, 25088)             0         \n",
      "_________________________________________________________________\n",
      "dense (Dense)                (None, 256)               6422784   \n",
      "_________________________________________________________________\n",
      "dense_1 (Dense)              (None, 128)               32896     \n",
      "_________________________________________________________________\n",
      "dense_2 (Dense)              (None, 4)                 516       \n",
      "=================================================================\n",
      "Total params: 6,549,444\n",
      "Trainable params: 6,549,444\n",
      "Non-trainable params: 0\n",
      "_________________________________________________________________\n"
     ]
    }
   ],
   "source": [
    "model.summary()"
   ]
  },
  {
   "cell_type": "code",
   "execution_count": 12,
   "id": "b800f2d1",
   "metadata": {},
   "outputs": [],
   "source": [
    "model.compile(optimizer = 'adam',\n",
    "              loss = 'categorical_crossentropy',\n",
    "              metrics=['accuracy'])"
   ]
  },
  {
   "cell_type": "code",
   "execution_count": 13,
   "id": "bf95f60a",
   "metadata": {},
   "outputs": [],
   "source": [
    "#Number of epochs for training\n",
    "epochs = 10"
   ]
  },
  {
   "cell_type": "code",
   "execution_count": 14,
   "id": "6cbf79cc",
   "metadata": {},
   "outputs": [
    {
     "name": "stdout",
     "output_type": "stream",
     "text": [
      "Epoch 1/10\n",
      "97/97 [==============================] - 42s 437ms/step - loss: 0.5553 - accuracy: 0.7468 - val_loss: 0.2916 - val_accuracy: 0.8303\n",
      "Epoch 2/10\n",
      "97/97 [==============================] - 42s 428ms/step - loss: 0.3568 - accuracy: 0.8414 - val_loss: 0.2657 - val_accuracy: 0.8616\n",
      "Epoch 3/10\n",
      "97/97 [==============================] - 41s 427ms/step - loss: 0.2977 - accuracy: 0.8573 - val_loss: 0.2201 - val_accuracy: 0.9086\n",
      "Epoch 4/10\n",
      "97/97 [==============================] - 42s 434ms/step - loss: 0.2743 - accuracy: 0.8723 - val_loss: 0.2477 - val_accuracy: 0.8825\n",
      "Epoch 5/10\n",
      "97/97 [==============================] - 48s 494ms/step - loss: 0.2872 - accuracy: 0.8710 - val_loss: 0.3340 - val_accuracy: 0.8512\n",
      "Epoch 6/10\n",
      "97/97 [==============================] - 45s 461ms/step - loss: 0.2610 - accuracy: 0.8863 - val_loss: 0.2525 - val_accuracy: 0.8564\n",
      "Epoch 7/10\n",
      "97/97 [==============================] - 48s 496ms/step - loss: 0.2450 - accuracy: 0.8876 - val_loss: 0.1951 - val_accuracy: 0.9034\n",
      "Epoch 8/10\n",
      "97/97 [==============================] - 44s 459ms/step - loss: 0.2563 - accuracy: 0.8941 - val_loss: 0.2049 - val_accuracy: 0.9217\n",
      "Epoch 9/10\n",
      "97/97 [==============================] - 45s 466ms/step - loss: 0.2412 - accuracy: 0.8863 - val_loss: 0.2002 - val_accuracy: 0.9034\n",
      "Epoch 10/10\n",
      "97/97 [==============================] - 49s 503ms/step - loss: 0.2119 - accuracy: 0.9113 - val_loss: 0.2543 - val_accuracy: 0.8930\n"
     ]
    }
   ],
   "source": [
    "history = model.fit(train_generator,\n",
    "          epochs = epochs,\n",
    "          validation_data = valid_generator,\n",
    "          verbose = 1\n",
    "         )"
   ]
  },
  {
   "cell_type": "code",
   "execution_count": 15,
   "id": "41bbec10",
   "metadata": {},
   "outputs": [
    {
     "name": "stdout",
     "output_type": "stream",
     "text": [
      "13/13 [==============================] - 2s 132ms/step - loss: 0.2283 - accuracy: 0.8995\n"
     ]
    },
    {
     "data": {
      "text/plain": [
       "[0.22831220924854279, 0.8994845151901245]"
      ]
     },
     "execution_count": 15,
     "metadata": {},
     "output_type": "execute_result"
    }
   ],
   "source": [
    "model.evaluate(test_generator)"
   ]
  },
  {
   "cell_type": "code",
   "execution_count": 16,
   "id": "f32501bb",
   "metadata": {},
   "outputs": [
    {
     "data": {
      "image/png": "[encoded data removed]",
      "text/plain": [
       "<Figure size 576x576 with 2 Axes>"
      ]
     },
     "metadata": {
      "needs_background": "light"
     },
     "output_type": "display_data"
    }
   ],
   "source": [
    "acc = history.history['accuracy']\n",
    "val_acc = history.history['val_accuracy']\n",
    "\n",
    "loss = history.history['loss']\n",
    "val_loss = history.history['val_loss']\n",
    "\n",
    "epochs_range = range(epochs)\n",
    "\n",
    "plt.figure(figsize=(8, 8))\n",
    "plt.subplot(2, 1, 1)\n",
    "plt.plot(epochs_range, acc, label='Training Accuracy')\n",
    "plt.plot(epochs_range, val_acc, label='Validation Accuracy')\n",
    "plt.legend(loc='lower right')\n",
    "plt.title('Training and Validation Accuracy')\n",
    "\n",
    "plt.subplot(2, 1, 2)\n",
    "plt.plot(epochs_range, loss, label='Training Loss')\n",
    "plt.plot(epochs_range, val_loss, label='Validation Loss')\n",
    "plt.legend(loc='upper right')\n",
    "plt.title('Training and Validation Loss')\n",
    "plt.show()"
   ]
  },
  {
   "cell_type": "code",
   "execution_count": null,
   "id": "84a5baaf",
   "metadata": {},
   "outputs": [],
   "source": []
  }
 ],
 "metadata": {
  "kernelspec": {
   "display_name": "Python 3",
   "language": "python",
   "name": "python3"
  },
  "language_info": {
   "codemirror_mode": {
    "name": "ipython",
    "version": 3
   },
   "file_extension": ".py",
   "mimetype": "text/x-python",
   "name": "python",
   "nbconvert_exporter": "python",
   "pygments_lexer": "ipython3",
   "version": "3.8.8"
  }
 },
 "nbformat": 4,
 "nbformat_minor": 5
}
